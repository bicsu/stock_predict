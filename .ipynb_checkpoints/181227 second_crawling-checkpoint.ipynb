{
 "cells": [
  {
   "cell_type": "code",
   "execution_count": 1,
   "metadata": {},
   "outputs": [],
   "source": [
    "import urllib\n",
    "import time\n",
    "\n",
    "from urllib.request import urlopen\n",
    "from bs4 import BeautifulSoup\n",
    "import pandas as pd"
   ]
  },
  {
   "cell_type": "code",
   "execution_count": 2,
   "metadata": {},
   "outputs": [
    {
     "data": {
      "text/plain": [
       "567"
      ]
     },
     "execution_count": 2,
     "metadata": {},
     "output_type": "execute_result"
    }
   ],
   "source": [
    "\n",
    "stockCode = '003530' # 065450 빅텍\n",
    "\n",
    "dayPriceUrl = 'http://finance.naver.com/item/sise_day.nhn?code=' + stockCode\n",
    "dayPriceHtml = urlopen(dayPriceUrl)\n",
    "dayPriceSource = BeautifulSoup(dayPriceHtml.read(), \"html.parser\")\n",
    "\n",
    "dayPricePageNavigation = dayPriceSource.find_all(\"table\", align=\"center\")\n",
    "dayPriceMaxPageSection = dayPricePageNavigation[0].find_all(\"td\", class_=\"pgRR\")\n",
    "dayPriceMaxPageNum = int(dayPriceMaxPageSection[0].a.get('href')[-3:])\n",
    "\n",
    "dayPriceMaxPageNum"
   ]
  },
  {
   "cell_type": "code",
   "execution_count": 3,
   "metadata": {},
   "outputs": [],
   "source": [
    "df = pd.DataFrame()"
   ]
  },
  {
   "cell_type": "code",
   "execution_count": 4,
   "metadata": {},
   "outputs": [],
   "source": [
    "for page in range(1, dayPriceMaxPageNum+1):\n",
    "    pg_url = '{url}&page={page}'.format(url=dayPriceUrl, page=page)\n",
    "    df = df.append(pd.read_html(pg_url, header=0)[0], ignore_index=True)\n",
    "\n",
    "\n",
    "    "
   ]
  },
  {
   "cell_type": "code",
   "execution_count": 5,
   "metadata": {},
   "outputs": [],
   "source": [
    "df = df.dropna()"
   ]
  },
  {
   "cell_type": "code",
   "execution_count": 6,
   "metadata": {},
   "outputs": [
    {
     "data": {
      "text/html": [
       "<div>\n",
       "<style scoped>\n",
       "    .dataframe tbody tr th:only-of-type {\n",
       "        vertical-align: middle;\n",
       "    }\n",
       "\n",
       "    .dataframe tbody tr th {\n",
       "        vertical-align: top;\n",
       "    }\n",
       "\n",
       "    .dataframe thead th {\n",
       "        text-align: right;\n",
       "    }\n",
       "</style>\n",
       "<table border=\"1\" class=\"dataframe\">\n",
       "  <thead>\n",
       "    <tr style=\"text-align: right;\">\n",
       "      <th></th>\n",
       "      <th>날짜</th>\n",
       "      <th>종가</th>\n",
       "      <th>전일비</th>\n",
       "      <th>시가</th>\n",
       "      <th>고가</th>\n",
       "      <th>저가</th>\n",
       "      <th>거래량</th>\n",
       "    </tr>\n",
       "  </thead>\n",
       "  <tbody>\n",
       "    <tr>\n",
       "      <th>1</th>\n",
       "      <td>2018.12.26</td>\n",
       "      <td>2010.0</td>\n",
       "      <td>45.0</td>\n",
       "      <td>2025.0</td>\n",
       "      <td>2040.0</td>\n",
       "      <td>1995.0</td>\n",
       "      <td>330934.0</td>\n",
       "    </tr>\n",
       "    <tr>\n",
       "      <th>2</th>\n",
       "      <td>2018.12.24</td>\n",
       "      <td>2055.0</td>\n",
       "      <td>15.0</td>\n",
       "      <td>2040.0</td>\n",
       "      <td>2060.0</td>\n",
       "      <td>2000.0</td>\n",
       "      <td>141300.0</td>\n",
       "    </tr>\n",
       "    <tr>\n",
       "      <th>3</th>\n",
       "      <td>2018.12.21</td>\n",
       "      <td>2040.0</td>\n",
       "      <td>40.0</td>\n",
       "      <td>2070.0</td>\n",
       "      <td>2080.0</td>\n",
       "      <td>2040.0</td>\n",
       "      <td>200133.0</td>\n",
       "    </tr>\n",
       "    <tr>\n",
       "      <th>4</th>\n",
       "      <td>2018.12.20</td>\n",
       "      <td>2080.0</td>\n",
       "      <td>35.0</td>\n",
       "      <td>2090.0</td>\n",
       "      <td>2105.0</td>\n",
       "      <td>2065.0</td>\n",
       "      <td>268862.0</td>\n",
       "    </tr>\n",
       "    <tr>\n",
       "      <th>5</th>\n",
       "      <td>2018.12.19</td>\n",
       "      <td>2115.0</td>\n",
       "      <td>20.0</td>\n",
       "      <td>2085.0</td>\n",
       "      <td>2115.0</td>\n",
       "      <td>2080.0</td>\n",
       "      <td>169835.0</td>\n",
       "    </tr>\n",
       "  </tbody>\n",
       "</table>\n",
       "</div>"
      ],
      "text/plain": [
       "           날짜      종가   전일비      시가      고가      저가       거래량\n",
       "1  2018.12.26  2010.0  45.0  2025.0  2040.0  1995.0  330934.0\n",
       "2  2018.12.24  2055.0  15.0  2040.0  2060.0  2000.0  141300.0\n",
       "3  2018.12.21  2040.0  40.0  2070.0  2080.0  2040.0  200133.0\n",
       "4  2018.12.20  2080.0  35.0  2090.0  2105.0  2065.0  268862.0\n",
       "5  2018.12.19  2115.0  20.0  2085.0  2115.0  2080.0  169835.0"
      ]
     },
     "execution_count": 6,
     "metadata": {},
     "output_type": "execute_result"
    }
   ],
   "source": [
    "df.head()"
   ]
  },
  {
   "cell_type": "code",
   "execution_count": 7,
   "metadata": {},
   "outputs": [],
   "source": [
    "df = df.rename(columns= \n",
    "               {'날짜': 'date', '종가': 'close', '전일비': 'diff', '시가': 'open', '고가': 'high', '저가': 'low', '거래량': 'volume'})\n"
   ]
  },
  {
   "cell_type": "code",
   "execution_count": 8,
   "metadata": {},
   "outputs": [],
   "source": [
    "df[['close', 'diff', 'open', 'high', 'low', 'volume']]= df[['close', 'diff', 'open', 'high', 'low', 'volume']].astype(int)"
   ]
  },
  {
   "cell_type": "code",
   "execution_count": 9,
   "metadata": {},
   "outputs": [],
   "source": [
    "df['date'] = pd.to_datetime(df['date'])"
   ]
  },
  {
   "cell_type": "code",
   "execution_count": 10,
   "metadata": {},
   "outputs": [],
   "source": [
    "df = df.sort_values(by=['date'], ascending=True).reset_index(drop=True) \n"
   ]
  },
  {
   "cell_type": "code",
   "execution_count": 11,
   "metadata": {},
   "outputs": [
    {
     "data": {
      "text/html": [
       "<div>\n",
       "<style scoped>\n",
       "    .dataframe tbody tr th:only-of-type {\n",
       "        vertical-align: middle;\n",
       "    }\n",
       "\n",
       "    .dataframe tbody tr th {\n",
       "        vertical-align: top;\n",
       "    }\n",
       "\n",
       "    .dataframe thead th {\n",
       "        text-align: right;\n",
       "    }\n",
       "</style>\n",
       "<table border=\"1\" class=\"dataframe\">\n",
       "  <thead>\n",
       "    <tr style=\"text-align: right;\">\n",
       "      <th></th>\n",
       "      <th>date</th>\n",
       "      <th>close</th>\n",
       "      <th>diff</th>\n",
       "      <th>open</th>\n",
       "      <th>high</th>\n",
       "      <th>low</th>\n",
       "      <th>volume</th>\n",
       "    </tr>\n",
       "  </thead>\n",
       "  <tbody>\n",
       "    <tr>\n",
       "      <th>0</th>\n",
       "      <td>1996-06-25</td>\n",
       "      <td>9360</td>\n",
       "      <td>0</td>\n",
       "      <td>9400</td>\n",
       "      <td>9500</td>\n",
       "      <td>9350</td>\n",
       "      <td>12310</td>\n",
       "    </tr>\n",
       "    <tr>\n",
       "      <th>1</th>\n",
       "      <td>1996-06-26</td>\n",
       "      <td>9100</td>\n",
       "      <td>260</td>\n",
       "      <td>9400</td>\n",
       "      <td>9400</td>\n",
       "      <td>9100</td>\n",
       "      <td>10590</td>\n",
       "    </tr>\n",
       "    <tr>\n",
       "      <th>2</th>\n",
       "      <td>1996-06-27</td>\n",
       "      <td>9200</td>\n",
       "      <td>100</td>\n",
       "      <td>9000</td>\n",
       "      <td>9300</td>\n",
       "      <td>8800</td>\n",
       "      <td>25450</td>\n",
       "    </tr>\n",
       "    <tr>\n",
       "      <th>3</th>\n",
       "      <td>1996-06-28</td>\n",
       "      <td>9200</td>\n",
       "      <td>0</td>\n",
       "      <td>9200</td>\n",
       "      <td>9400</td>\n",
       "      <td>9200</td>\n",
       "      <td>15200</td>\n",
       "    </tr>\n",
       "    <tr>\n",
       "      <th>4</th>\n",
       "      <td>1996-06-29</td>\n",
       "      <td>9110</td>\n",
       "      <td>90</td>\n",
       "      <td>9200</td>\n",
       "      <td>9200</td>\n",
       "      <td>9000</td>\n",
       "      <td>8220</td>\n",
       "    </tr>\n",
       "  </tbody>\n",
       "</table>\n",
       "</div>"
      ],
      "text/plain": [
       "        date  close  diff  open  high   low  volume\n",
       "0 1996-06-25   9360     0  9400  9500  9350   12310\n",
       "1 1996-06-26   9100   260  9400  9400  9100   10590\n",
       "2 1996-06-27   9200   100  9000  9300  8800   25450\n",
       "3 1996-06-28   9200     0  9200  9400  9200   15200\n",
       "4 1996-06-29   9110    90  9200  9200  9000    8220"
      ]
     },
     "execution_count": 11,
     "metadata": {},
     "output_type": "execute_result"
    }
   ],
   "source": [
    "df.head()"
   ]
  },
  {
   "cell_type": "code",
   "execution_count": null,
   "metadata": {},
   "outputs": [],
   "source": []
  }
 ],
 "metadata": {
  "kernelspec": {
   "display_name": "Python 3",
   "language": "python",
   "name": "python3"
  },
  "language_info": {
   "codemirror_mode": {
    "name": "ipython",
    "version": 3
   },
   "file_extension": ".py",
   "mimetype": "text/x-python",
   "name": "python",
   "nbconvert_exporter": "python",
   "pygments_lexer": "ipython3",
   "version": "3.6.5"
  }
 },
 "nbformat": 4,
 "nbformat_minor": 2
}
